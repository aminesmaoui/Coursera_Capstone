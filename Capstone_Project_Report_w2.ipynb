{
 "cells": [
  {
   "cell_type": "markdown",
   "metadata": {},
   "source": [
    "## Introduction/Business Problem\n",
    "\n",
    "Problem: A friend of mine who has recently moved to Singapore from Australia is looking for her accommodation. She works in the CBD area near Orchard road. She has certain preferences and she wants to explore different areas based on those preferences.\n",
    "\n",
    "**Preference for the locality**  \n",
    "1. The locality of her preference should be close to the office area. \n",
    "2. The area should have good public conveyance or connectivity to other areas\n",
    "3. The area should have public amenities like park, shopping malls\n",
    "4. The area where she could find more continental food than just Asian food\n",
    "\n",
    "**Preferences for the room/house**\n",
    "1.The house or room should preferably be a condominium not the HDB type\n",
    "2.The house should either be a one bed room, hall and kitchen type or it should be studio apartment\n",
    "3.She does not want to exceed her budget "
   ]
  },
  {
   "cell_type": "markdown",
   "metadata": {},
   "source": [
    "## Data\n",
    "**To solve the stated problem, the data required are:**\n",
    "1. Singapore district data from https://keylocation.sg/singapore/districts-map. This will give the information regarding how each locality is distributed in districts. I need to scrape the necessary table for further usage. \n",
    "2. Latitude and Longitude data from geocode\n",
    "3.Condo data with no of listing data, nearest mrt and price range are extracted from  https://www.99.co/ and https://www.propertyguru.com.sg/ .(HDB or Condo). \n",
    "4. Use foursquare to find public amenities data such as parks, shopping mall in each locality\n",
    "5. Use foursquare to find restaurants and eateries data\n"
   ]
  },
  {
   "cell_type": "markdown",
   "metadata": {},
   "source": [
    "Some useful links for data:\n",
    "List of condo district wise\n",
    "https://condo.singaporeexpats.com/\n"
   ]
  },
  {
   "cell_type": "markdown",
   "metadata": {},
   "source": [
    "## Methodology\n",
    "The methodology adopted to solve this problem is straight forward and in line with the learning I have gained through out the course.\n",
    "The various steps involved in the methodology are as follows:\n",
    "a. Singapore is divided into 28 districts and it is one the best feature to categorize the whole region into sub-sections. Therefore, the first and foremost step in my approach is to collect the district data of Singapore. That includes District number, Area name and various neighborhood in that area. I have collected the data using web scraping method using Beautifulsoup4. The website that I have used for collecting the district wise data is https://keylocation.sg/singapore/districts-map (df_d).\n",
    "b. My next step is to generate the latitude and longitude data for each district of Singapore and create a dataframe (df_coord)\n",
    "c. Once all the data including district wise area name, neighborhood, latitude and longitude is collected, I transferred the data in a data frame format.\n",
    "d. Now as per the location of the office of my friend and preferred area to rent a house, I filtered the bigger data frame (df_district) and created a subset data frame (df_for_rent).\n",
    "e. Next item on the list is to extract the data of all the condominium in the desired area and neighborhood which has listing for 1BHK type units\n",
    "f. I extracted the data for all the listing from https://www.99.co/ and https://www.propertyguru.com.sg/. The data gives the name of the condo, number of listing with 1BHK unit and the price range of each condo.\n",
    "8. Based on her preference, specially price range, I filter the condo list to generate a final list of condo for her to take a look at later. \n",
    "9. Now, after filtering out the condo list, next job is to explore the area in terms of amenities, like restaurants, movie halls, parks and nearby MRT station\n",
    "10. After exploring each area, analyze each area and perform k-mean clustering technique to categorize the area.\n",
    "11. Finally, analyze each cluster and present the results and discussion.\n",
    "\n"
   ]
  },
  {
   "cell_type": "markdown",
   "metadata": {},
   "source": [
    "## Results\n",
    "The main results from the present analysis are:\n",
    "1. List of top condos where no. of listing is more than 50. It shows the name of the condo, nearets MRT, minimum and maximum price of units available along with the district where they belong\n",
    "2. For the chosen districts where all the listed condos are located are explored further to give an insight of the amenities available in the given area.\n",
    "3. The area of interest are clustered to show the amenities.\n",
    "The table and graphs of the results are shown in the presentation attached in the current submission."
   ]
  },
  {
   "cell_type": "markdown",
   "metadata": {},
   "source": [
    "## Discussion\n",
    "Top three districts are identified first out of 28. Based on that, the whole data analysis progressed. The choice of district was based on proximity of the office area, availability of residential condominiums and popularity of the area among locals. \n",
    "Different locations in each neighborhood was not separately categorized, instead it is taken care by considering the neighborhood.\n",
    "Clustering is done based on neighborhood. It can also be done based on the list of condo for further insight.\n",
    "All data used in this project are real and taken from authentic sources.\n",
    "Different data collection, cleaning and analysis tools has been utilized during this project.\n"
   ]
  },
  {
   "cell_type": "markdown",
   "metadata": {},
   "source": [
    "## Conclusion\n",
    "The main conclusions are:\n",
    "1. Out of the three, most of the listings are found in Orchard area. However, in one single condominium, maximum listing was found in Marina 2. Area which was “The Clift”. \n",
    "2. Although Keppel area was within the preferred district but the price range of the listed condos were high and there were very few listings.\n",
    "3. The likelihood of finding a suitable condo is high in Orchard area as total number of combined listing is maximum.\n",
    "4. Although there are Asian restaurants which are available but there is no abundance of continental restaurants as well.\n",
    "5. All the condos are well connected to the central and other parts"
   ]
  }
 ],
 "metadata": {
  "kernelspec": {
   "display_name": "Python 3",
   "language": "python",
   "name": "python3"
  },
  "language_info": {
   "codemirror_mode": {
    "name": "ipython",
    "version": 3
   },
   "file_extension": ".py",
   "mimetype": "text/x-python",
   "name": "python",
   "nbconvert_exporter": "python",
   "pygments_lexer": "ipython3",
   "version": "3.6.5"
  }
 },
 "nbformat": 4,
 "nbformat_minor": 2
}
