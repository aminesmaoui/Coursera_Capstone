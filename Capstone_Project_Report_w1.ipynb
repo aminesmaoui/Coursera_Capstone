{
 "cells": [
  {
   "cell_type": "markdown",
   "metadata": {},
   "source": [
    "## Introduction/Business Problem\n",
    "\n",
    "Problem: A friend of mine who has recently moved to Singapore from Australia is looking for her accommodation. She works in the CBD area near Orchard road. She has certain preferences and she wants to explore different areas based on those preferences.\n",
    "\n",
    "**Preference for the locality**  \n",
    "1. The locality of her preference should be close to the office area. \n",
    "2. The area should have good public conveyance or connectivity to other areas\n",
    "3. The area should have public amenities like park, shopping malls\n",
    "4. The area where she could find more continental food than just Asian food\n",
    "\n",
    "**Preferences for the room/house**\n",
    "1.The house or room should preferably be a condominium not the HDB type\n",
    "2.The house should either be a one bed room, hall and kitchen type or it should be studio apartment\n",
    "3.She does not want to exceed her budget "
   ]
  },
  {
   "cell_type": "markdown",
   "metadata": {},
   "source": [
    "## Data\n",
    "**To solve the stated problem, the data required are:**\n",
    "1. Singapore district data from https://keylocation.sg/singapore/districts-map. This will give the information regarding how each locality is distributed in districts. I need to scrape the necessary table for further usage. \n",
    "2. Latitude and Longitude data from geocode\n",
    "3.Condo data with no of listing data, nearest mrt and price range are extracted from  https://www.99.co/ and https://www.propertyguru.com.sg/ .(HDB or Condo). \n",
    "4. Use foursquare to find public amenities data such as parks, shopping mall in each locality\n",
    "5. Use foursquare to find restaurants and eateries data\n"
   ]
  },
  {
   "cell_type": "markdown",
   "metadata": {},
   "source": [
    "Some useful links for data:\n",
    "List of condo district wise\n",
    "https://condo.singaporeexpats.com/\n"
   ]
  }
 ],
 "metadata": {
  "kernelspec": {
   "display_name": "Python 3",
   "language": "python",
   "name": "python3"
  },
  "language_info": {
   "codemirror_mode": {
    "name": "ipython",
    "version": 3
   },
   "file_extension": ".py",
   "mimetype": "text/x-python",
   "name": "python",
   "nbconvert_exporter": "python",
   "pygments_lexer": "ipython3",
   "version": "3.6.5"
  }
 },
 "nbformat": 4,
 "nbformat_minor": 2
}
